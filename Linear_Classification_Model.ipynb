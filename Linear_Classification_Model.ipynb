{
  "nbformat": 4,
  "nbformat_minor": 0,
  "metadata": {
    "colab": {
      "provenance": []
    },
    "kernelspec": {
      "name": "python3",
      "display_name": "Python 3"
    },
    "language_info": {
      "name": "python"
    }
  },
  "cells": [
    {
      "cell_type": "code",
      "execution_count": 2,
      "metadata": {
        "id": "VPB3BNJLV35u"
      },
      "outputs": [],
      "source": [
        "import tensorflow as tf\n",
        "import numpy as np\n",
        "import matplotlib.pyplot as plt\n",
        "from datasets import MNISTDataset"
      ]
    },
    {
      "cell_type": "code",
      "source": [
        "mnist = tf.keras.datasets.mnist\n",
        "(train_images, train_labels), (test_images, test_labels) = mnist.load_data()\n",
        "\n",
        "plt.imshow(train_images[0], cmap=\"Greys_r\")\n",
        "\n",
        "data = MNISTDataset(train_images.reshape([-1, 784]), train_labels,\n",
        "                    test_images.reshape([-1, 784]), test_labels,\n",
        "                    batch_size=128)"
      ],
      "metadata": {
        "colab": {
          "base_uri": "https://localhost:8080/",
          "height": 465
        },
        "id": "N7sQAHdpV60l",
        "outputId": "8dd1356b-7761-408d-8983-284f5aaa9229"
      },
      "execution_count": 3,
      "outputs": [
        {
          "output_type": "stream",
          "name": "stdout",
          "text": [
            "Downloading data from https://storage.googleapis.com/tensorflow/tf-keras-datasets/mnist.npz\n",
            "11490434/11490434 [==============================] - 0s 0us/step\n"
          ]
        },
        {
          "output_type": "display_data",
          "data": {
            "text/plain": [
              "<Figure size 640x480 with 1 Axes>"
            ],
            "image/png": "[encoded data removed]"
          },
          "metadata": {}
        }
      ]
    },
    {
      "cell_type": "code",
      "source": [
        "train_steps = 1000\n",
        "learning_rate = 0.1\n",
        "\n",
        "hidden_layer_size = 128\n",
        "\n",
        "# Initialize weights and biases for the hidden layer\n",
        "hidden_weights = tf.Variable(tf.random.uniform([784, hidden_layer_size], minval=-0.1, maxval=0.1))\n",
        "hidden_biases = tf.Variable(tf.random.uniform([hidden_layer_size], minval=-0.1, maxval=0.1))\n",
        "\n",
        "\n",
        "W = tf.Variable(tf.random.uniform([hidden_layer_size, 10], minval=-0.09, maxval=0.09))\n",
        "b = tf.Variable(tf.random.uniform([10], minval=-0.09, maxval=0.09))"
      ],
      "metadata": {
        "id": "HEqztebMWFLb"
      },
      "execution_count": 15,
      "outputs": []
    },
    {
      "cell_type": "code",
      "source": [
        "for step in range(train_steps):\n",
        "    img_batch, lbl_batch = data.next_batch()\n",
        "    with tf.GradientTape() as tape:\n",
        "\n",
        "        hidden_output = tf.nn.relu(tf.matmul(img_batch, hidden_weights) + hidden_biases)\n",
        "        logits = tf.matmul(hidden_output, W) + b\n",
        "        xent = tf.reduce_mean(tf.nn.sparse_softmax_cross_entropy_with_logits(\n",
        "            logits=logits, labels=lbl_batch))\n",
        "\n",
        "    grads = tape.gradient(xent, [hidden_weights, hidden_biases, W, b])\n",
        "    hidden_weights.assign_sub(learning_rate * grads[0])\n",
        "    hidden_biases.assign_sub(learning_rate * grads[1])\n",
        "    W.assign_sub(learning_rate * grads[2])\n",
        "    b.assign_sub(learning_rate * grads[3])\n",
        "\n",
        "    if not step % 100:\n",
        "        preds = tf.argmax(logits, axis=1, output_type=tf.int32)\n",
        "        acc = tf.reduce_mean(tf.cast(tf.equal(preds, lbl_batch),\n",
        "                             tf.float32))\n",
        "        print(\"Loss: {} Accuracy: {}\".format(xent, acc))"
      ],
      "metadata": {
        "colab": {
          "base_uri": "https://localhost:8080/"
        },
        "id": "wlYY_4ldWNM5",
        "outputId": "3b738ad8-2394-440f-898b-ca016b87a7ac"
      },
      "execution_count": 16,
      "outputs": [
        {
          "output_type": "stream",
          "name": "stdout",
          "text": [
            "Loss: 2.3065881729125977 Accuracy: 0.109375\n",
            "Loss: 0.5045995712280273 Accuracy: 0.859375\n",
            "Loss: 0.4787636995315552 Accuracy: 0.8515625\n",
            "Loss: 0.2918599843978882 Accuracy: 0.9140625\n",
            "Starting new epoch...\n",
            "Loss: 0.38574838638305664 Accuracy: 0.875\n",
            "Loss: 0.28934019804000854 Accuracy: 0.9140625\n",
            "Loss: 0.2709353268146515 Accuracy: 0.921875\n",
            "Loss: 0.4456024169921875 Accuracy: 0.8828125\n",
            "Loss: 0.27608782052993774 Accuracy: 0.90625\n",
            "Starting new epoch...\n",
            "Loss: 0.18951547145843506 Accuracy: 0.9453125\n"
          ]
        }
      ]
    },
    {
      "cell_type": "code",
      "source": [
        "hidden_test_output = tf.nn.relu(tf.matmul(data.test_data, hidden_weights) + hidden_biases)\n",
        "test_logits = tf.matmul(hidden_test_output, W) + b\n",
        "test_preds = tf.argmax(test_logits, axis=1, output_type=tf.int32)\n",
        "\n",
        "\n",
        "acc = tf.reduce_mean(tf.cast(tf.equal(test_preds, data.test_labels),\n",
        "                             tf.float32))\n",
        "print(acc)"
      ],
      "metadata": {
        "colab": {
          "base_uri": "https://localhost:8080/"
        },
        "id": "sRV9bcaBWVfZ",
        "outputId": "d56739da-42b5-4331-d8cd-18c084c6354e"
      },
      "execution_count": 17,
      "outputs": [
        {
          "output_type": "stream",
          "name": "stdout",
          "text": [
            "tf.Tensor(0.9334, shape=(), dtype=float32)\n"
          ]
        }
      ]
    }
  ]
}